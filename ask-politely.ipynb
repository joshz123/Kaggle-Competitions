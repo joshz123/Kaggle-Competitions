{
 "cells": [
  {
   "cell_type": "code",
   "execution_count": 1,
   "id": "370e9c62",
   "metadata": {
    "_cell_guid": "b1076dfc-b9ad-4769-8c92-a6c4dae69d19",
    "_uuid": "8f2839f25d086af736a60e9eeb907d3b93b6e0e5",
    "execution": {
     "iopub.execute_input": "2025-01-28T23:27:58.983451Z",
     "iopub.status.busy": "2025-01-28T23:27:58.983242Z",
     "iopub.status.idle": "2025-01-28T23:27:59.972327Z",
     "shell.execute_reply": "2025-01-28T23:27:59.971437Z"
    },
    "papermill": {
     "duration": 0.993961,
     "end_time": "2025-01-28T23:27:59.973800",
     "exception": false,
     "start_time": "2025-01-28T23:27:58.979839",
     "status": "completed"
    },
    "tags": []
   },
   "outputs": [
    {
     "name": "stdout",
     "output_type": "stream",
     "text": [
      "/kaggle/input/llms-you-cant-please-them-all/sample_submission.csv\n",
      "/kaggle/input/llms-you-cant-please-them-all/test.csv\n",
      "/kaggle/input/phi-3.5-mini-instruct/pytorch/default/1/model.safetensors.index.json\n",
      "/kaggle/input/phi-3.5-mini-instruct/pytorch/default/1/CODE_OF_CONDUCT.md\n",
      "/kaggle/input/phi-3.5-mini-instruct/pytorch/default/1/config.json\n",
      "/kaggle/input/phi-3.5-mini-instruct/pytorch/default/1/model-00001-of-00002.safetensors\n",
      "/kaggle/input/phi-3.5-mini-instruct/pytorch/default/1/LICENSE\n",
      "/kaggle/input/phi-3.5-mini-instruct/pytorch/default/1/model-00002-of-00002.safetensors\n",
      "/kaggle/input/phi-3.5-mini-instruct/pytorch/default/1/modeling_phi3.py\n",
      "/kaggle/input/phi-3.5-mini-instruct/pytorch/default/1/README.md\n",
      "/kaggle/input/phi-3.5-mini-instruct/pytorch/default/1/SECURITY.md\n",
      "/kaggle/input/phi-3.5-mini-instruct/pytorch/default/1/tokenizer.json\n",
      "/kaggle/input/phi-3.5-mini-instruct/pytorch/default/1/tokenizer_config.json\n",
      "/kaggle/input/phi-3.5-mini-instruct/pytorch/default/1/gitattributes\n",
      "/kaggle/input/phi-3.5-mini-instruct/pytorch/default/1/sample_finetune.py\n",
      "/kaggle/input/phi-3.5-mini-instruct/pytorch/default/1/special_tokens_map.json\n",
      "/kaggle/input/phi-3.5-mini-instruct/pytorch/default/1/tokenizer.model\n",
      "/kaggle/input/phi-3.5-mini-instruct/pytorch/default/1/NOTICE.md\n",
      "/kaggle/input/phi-3.5-mini-instruct/pytorch/default/1/added_tokens.json\n",
      "/kaggle/input/phi-3.5-mini-instruct/pytorch/default/1/configuration_phi3.py\n",
      "/kaggle/input/phi-3.5-mini-instruct/pytorch/default/1/generation_config.json\n",
      "/kaggle/input/deepseek-r1/transformers/deepseek-r1-distill-qwen-1.5b/1/config.json\n",
      "/kaggle/input/deepseek-r1/transformers/deepseek-r1-distill-qwen-1.5b/1/LICENSE\n",
      "/kaggle/input/deepseek-r1/transformers/deepseek-r1-distill-qwen-1.5b/1/README.md\n",
      "/kaggle/input/deepseek-r1/transformers/deepseek-r1-distill-qwen-1.5b/1/tokenizer.json\n",
      "/kaggle/input/deepseek-r1/transformers/deepseek-r1-distill-qwen-1.5b/1/tokenizer_config.json\n",
      "/kaggle/input/deepseek-r1/transformers/deepseek-r1-distill-qwen-1.5b/1/model.safetensors\n",
      "/kaggle/input/deepseek-r1/transformers/deepseek-r1-distill-qwen-1.5b/1/.gitattributes\n",
      "/kaggle/input/deepseek-r1/transformers/deepseek-r1-distill-qwen-1.5b/1/generation_config.json\n",
      "/kaggle/input/deepseek-r1/transformers/deepseek-r1-distill-qwen-1.5b/1/figures/benchmark.jpg\n"
     ]
    }
   ],
   "source": [
    "# This Python 3 environment comes with many helpful analytics libraries installed\n",
    "# It is defined by the kaggle/python Docker image: https://github.com/kaggle/docker-python\n",
    "# For example, here's several helpful packages to load\n",
    "\n",
    "import numpy as np # linear algebra\n",
    "import pandas as pd # data processing, CSV file I/O (e.g. pd.read_csv)\n",
    "\n",
    "# Input data files are available in the read-only \"../input/\" directory\n",
    "# For example, running this (by clicking run or pressing Shift+Enter) will list all files under the input directory\n",
    "import os\n",
    "for dirname, _, filenames in os.walk('/kaggle/input'):\n",
    "    for filename in filenames:\n",
    "        print(os.path.join(dirname, filename))\n",
    "\n",
    "# You can write up to 20GB to the current directory (/kaggle/working/) that gets preserved as output when you create a version using \"Save & Run All\" \n",
    "# You can also write temporary files to /kaggle/temp/, but they won't be saved outside of the current session"
   ]
  },
  {
   "cell_type": "code",
   "execution_count": 2,
   "id": "46f7440e",
   "metadata": {
    "execution": {
     "iopub.execute_input": "2025-01-28T23:27:59.979908Z",
     "iopub.status.busy": "2025-01-28T23:27:59.979579Z",
     "iopub.status.idle": "2025-01-28T23:28:21.283995Z",
     "shell.execute_reply": "2025-01-28T23:28:21.283087Z"
    },
    "papermill": {
     "duration": 21.308731,
     "end_time": "2025-01-28T23:28:21.285316",
     "exception": false,
     "start_time": "2025-01-28T23:27:59.976585",
     "status": "completed"
    },
    "tags": []
   },
   "outputs": [
    {
     "data": {
      "text/html": [
       "<div>\n",
       "<style scoped>\n",
       "    .dataframe tbody tr th:only-of-type {\n",
       "        vertical-align: middle;\n",
       "    }\n",
       "\n",
       "    .dataframe tbody tr th {\n",
       "        vertical-align: top;\n",
       "    }\n",
       "\n",
       "    .dataframe thead th {\n",
       "        text-align: right;\n",
       "    }\n",
       "</style>\n",
       "<table border=\"1\" class=\"dataframe\">\n",
       "  <thead>\n",
       "    <tr style=\"text-align: right;\">\n",
       "      <th></th>\n",
       "      <th>id</th>\n",
       "      <th>topic</th>\n",
       "    </tr>\n",
       "  </thead>\n",
       "  <tbody>\n",
       "    <tr>\n",
       "      <th>0</th>\n",
       "      <td>1097671</td>\n",
       "      <td>Compare and contrast the importance of self-reliance and adaptability in healthcare.</td>\n",
       "    </tr>\n",
       "    <tr>\n",
       "      <th>1</th>\n",
       "      <td>1726150</td>\n",
       "      <td>Evaluate the effectiveness of management consulting in addressing conflicts within marketing.</td>\n",
       "    </tr>\n",
       "    <tr>\n",
       "      <th>2</th>\n",
       "      <td>3211968</td>\n",
       "      <td>Discuss the role of self-reliance in achieving success in software engineering.</td>\n",
       "    </tr>\n",
       "  </tbody>\n",
       "</table>\n",
       "</div>"
      ],
      "text/plain": [
       "        id  \\\n",
       "0  1097671   \n",
       "1  1726150   \n",
       "2  3211968   \n",
       "\n",
       "                                                                                           topic  \n",
       "0           Compare and contrast the importance of self-reliance and adaptability in healthcare.  \n",
       "1  Evaluate the effectiveness of management consulting in addressing conflicts within marketing.  \n",
       "2                Discuss the role of self-reliance in achieving success in software engineering.  "
      ]
     },
     "execution_count": 2,
     "metadata": {},
     "output_type": "execute_result"
    }
   ],
   "source": [
    "import sys \n",
    "import torch\n",
    "import random\n",
    "import numpy as np\n",
    "import pandas as pd\n",
    "import gc\n",
    "import time\n",
    "import random\n",
    "from tqdm import tqdm\n",
    "\n",
    "from IPython.display import display\n",
    "\n",
    "from transformers import pipeline, AutoTokenizer, AutoModelForCausalLM, AutoModel\n",
    "\n",
    "if (not torch.cuda.is_available()): print(\"Sorry - GPU required!\")\n",
    "    \n",
    "import logging\n",
    "logging.getLogger('transformers').setLevel(logging.ERROR)\n",
    "\n",
    "pd.set_option('display.max_colwidth', None)\n",
    "pd.set_option('display.max_rows', None)\n",
    "pd.set_option('display.width', None)\n",
    "\n",
    "test_df = pd.read_csv(\"/kaggle/input/llms-you-cant-please-them-all/test.csv\")\n",
    "test_df"
   ]
  },
  {
   "cell_type": "code",
   "execution_count": 3,
   "id": "85e4a8fd",
   "metadata": {
    "execution": {
     "iopub.execute_input": "2025-01-28T23:28:21.291203Z",
     "iopub.status.busy": "2025-01-28T23:28:21.290943Z",
     "iopub.status.idle": "2025-01-28T23:29:21.574728Z",
     "shell.execute_reply": "2025-01-28T23:29:21.574026Z"
    },
    "papermill": {
     "duration": 60.288228,
     "end_time": "2025-01-28T23:29:21.576189",
     "exception": false,
     "start_time": "2025-01-28T23:28:21.287961",
     "status": "completed"
    },
    "tags": []
   },
   "outputs": [
    {
     "data": {
      "application/vnd.jupyter.widget-view+json": {
       "model_id": "acf5aa45bd32448bb23e1bffddf4a2b5",
       "version_major": 2,
       "version_minor": 0
      },
      "text/plain": [
       "Loading checkpoint shards:   0%|          | 0/2 [00:00<?, ?it/s]"
      ]
     },
     "metadata": {},
     "output_type": "display_data"
    }
   ],
   "source": [
    "# Clear GPU memory and delete existing objects if they exist\n",
    "if torch.cuda.is_available():\n",
    "    torch.cuda.empty_cache()\n",
    "for obj in ['model', 'pipe', 'tokenizer']:\n",
    "    if obj in globals():\n",
    "        del globals()[obj]\n",
    "\n",
    "# Model configuration\n",
    "model_name = '/kaggle/input/phi-3.5-mini-instruct/pytorch/default/1'\n",
    "\n",
    "\n",
    "# Load tokenizer\n",
    "tokenizer = AutoTokenizer.from_pretrained(model_name)\n",
    "\n",
    "# Load model\n",
    "model = AutoModelForCausalLM.from_pretrained(\n",
    "    model_name,\n",
    "    torch_dtype=torch.bfloat16,\n",
    "    device_map=\"auto\",\n",
    "    trust_remote_code=True\n",
    ")"
   ]
  },
  {
   "cell_type": "code",
   "execution_count": 4,
   "id": "6f3d8d95",
   "metadata": {
    "execution": {
     "iopub.execute_input": "2025-01-28T23:29:21.582690Z",
     "iopub.status.busy": "2025-01-28T23:29:21.582473Z",
     "iopub.status.idle": "2025-01-28T23:29:21.587389Z",
     "shell.execute_reply": "2025-01-28T23:29:21.586798Z"
    },
    "papermill": {
     "duration": 0.009323,
     "end_time": "2025-01-28T23:29:21.588594",
     "exception": false,
     "start_time": "2025-01-28T23:29:21.579271",
     "status": "completed"
    },
    "tags": []
   },
   "outputs": [],
   "source": [
    "max_new_tokens = 180  # Maximum length of generated text (can be overridden)\n",
    "\n",
    "word_count_to_request = 60   #We ask the model for this many words as part of the prompt prefix\n",
    "\n",
    "temperature = 0.7    # Higher temperature = more random/creative outputs\n",
    "top_p = 0.7         # Nucleus sampling parameter for more diverse outputs (1.0 disables filtering)\n",
    "\n",
    "# Create pipeline with parameters\n",
    "pipe = pipeline(\n",
    "    \"text-generation\", \n",
    "    model=model, \n",
    "    tokenizer=tokenizer, \n",
    "    trust_remote_code=True,\n",
    "    max_new_tokens=max_new_tokens,\n",
    "    temperature=temperature,\n",
    "    top_p=top_p,\n",
    "    do_sample=True\n",
    ")\n",
    "\n",
    "\n",
    "# pipe = pipeline(\n",
    "#     \"text-generation\", \n",
    "#     model=\"microsoft/phi-2\", \n",
    "#     # tokenizer=tokenizer, \n",
    "#     trust_remote_code=True,\n",
    "#     max_new_tokens=max_new_tokens,\n",
    "#     temperature=temperature,\n",
    "#     top_p=top_p,\n",
    "#     do_sample=True\n",
    "# )\n"
   ]
  },
  {
   "cell_type": "code",
   "execution_count": 5,
   "id": "537c26f6",
   "metadata": {
    "execution": {
     "iopub.execute_input": "2025-01-28T23:29:21.594086Z",
     "iopub.status.busy": "2025-01-28T23:29:21.593872Z",
     "iopub.status.idle": "2025-01-28T23:29:21.598328Z",
     "shell.execute_reply": "2025-01-28T23:29:21.597667Z"
    },
    "papermill": {
     "duration": 0.008483,
     "end_time": "2025-01-28T23:29:21.599506",
     "exception": false,
     "start_time": "2025-01-28T23:29:21.591023",
     "status": "completed"
    },
    "tags": []
   },
   "outputs": [],
   "source": [
    "def get_response(messages, trim_numbered_lists=True, max_tokens=None):\n",
    "    # Set max_new_tokens for this specific call if provided\n",
    "    generation_params = {}\n",
    "    if max_tokens:\n",
    "        generation_params['max_new_tokens'] = max_tokens\n",
    "    \n",
    "    # Generate response with optional max_tokens\n",
    "    response = pipe(messages, **generation_params)[0]['generated_text'][-1]['content']\n",
    "    \n",
    "    # Rest of function remains the same\n",
    "    response = response.strip()\n",
    "    if trim_numbered_lists and \"1.\" in response:\n",
    "        response = response[:response.find(\"1.\")].strip()\n",
    "    \n",
    "    last_punct = max(response.rfind('.'), response.rfind('?'), \n",
    "                    response.rfind('!'), response.rfind(']'))\n",
    "    \n",
    "    return response[:last_punct + 1] if last_punct != -1 else response"
   ]
  },
  {
   "cell_type": "code",
   "execution_count": 6,
   "id": "481cca18",
   "metadata": {
    "execution": {
     "iopub.execute_input": "2025-01-28T23:29:21.604960Z",
     "iopub.status.busy": "2025-01-28T23:29:21.604765Z",
     "iopub.status.idle": "2025-01-28T23:29:36.083205Z",
     "shell.execute_reply": "2025-01-28T23:29:36.082371Z"
    },
    "papermill": {
     "duration": 14.482733,
     "end_time": "2025-01-28T23:29:36.084685",
     "exception": false,
     "start_time": "2025-01-28T23:29:21.601952",
     "status": "completed"
    },
    "tags": []
   },
   "outputs": [
    {
     "data": {
      "text/plain": [
       "\"Title: The Joyful Expenditure: A Reflection on the Pleasures of Spending Money\\n\\nIn the tapestry of human experience, money is often seen as a necessary evil—a tool to acquire the essentials of life. Yet, beneath the surface of this utilitarian view lies a more nuanced and joyful aspect of money: the pleasure derived from spending it. This essay explores the multifaceted joys of spending money, examining how it can enhance our lives, create moments of happiness, and serve as a catalyst for personal growth.\\n\\nAt its core, spending money is an act of self-expression. Each purchase, whether it's a cup of coffee, a new book, or a luxurious vacation, is a statement about our values, interests, and desires.\""
      ]
     },
     "execution_count": 6,
     "metadata": {},
     "output_type": "execute_result"
    }
   ],
   "source": [
    "messages = [\n",
    "   {\"role\": \"user\", \"content\": \"write me a short essay on the joys of spending money\"},\n",
    "]\n",
    "get_response(messages)"
   ]
  },
  {
   "cell_type": "code",
   "execution_count": 7,
   "id": "2ea7f9bc",
   "metadata": {
    "execution": {
     "iopub.execute_input": "2025-01-28T23:29:36.091035Z",
     "iopub.status.busy": "2025-01-28T23:29:36.090816Z",
     "iopub.status.idle": "2025-01-28T23:30:16.144389Z",
     "shell.execute_reply": "2025-01-28T23:30:16.143555Z"
    },
    "papermill": {
     "duration": 40.060977,
     "end_time": "2025-01-28T23:30:16.148661",
     "exception": false,
     "start_time": "2025-01-28T23:29:36.087684",
     "status": "completed"
    },
    "tags": []
   },
   "outputs": [
    {
     "data": {
      "text/html": [
       "<div>\n",
       "<style scoped>\n",
       "    .dataframe tbody tr th:only-of-type {\n",
       "        vertical-align: middle;\n",
       "    }\n",
       "\n",
       "    .dataframe tbody tr th {\n",
       "        vertical-align: top;\n",
       "    }\n",
       "\n",
       "    .dataframe thead th {\n",
       "        text-align: right;\n",
       "    }\n",
       "</style>\n",
       "<table border=\"1\" class=\"dataframe\">\n",
       "  <thead>\n",
       "    <tr style=\"text-align: right;\">\n",
       "      <th></th>\n",
       "      <th>id</th>\n",
       "      <th>topic</th>\n",
       "      <th>essay</th>\n",
       "    </tr>\n",
       "  </thead>\n",
       "  <tbody>\n",
       "    <tr>\n",
       "      <th>0</th>\n",
       "      <td>1097671</td>\n",
       "      <td>Compare and contrast the importance of self-reliance and adaptability in healthcare.</td>\n",
       "      <td>Self-reliance and adaptability are both crucial attributes in the healthcare sector, yet they serve different purposes and are manifested in various ways.\\n\\nSelf-reliance in healthcare refers to the ability of healthcare professionals, patients, and institutions to manage their resources, knowledge, and skills independently.</td>\n",
       "    </tr>\n",
       "    <tr>\n",
       "      <th>1</th>\n",
       "      <td>1726150</td>\n",
       "      <td>Evaluate the effectiveness of management consulting in addressing conflicts within marketing.</td>\n",
       "      <td>Management consulting can be highly effective in addressing conflicts within marketing by providing an objective, expert perspective that can help resolve issues and improve strategies.</td>\n",
       "    </tr>\n",
       "    <tr>\n",
       "      <th>2</th>\n",
       "      <td>3211968</td>\n",
       "      <td>Discuss the role of self-reliance in achieving success in software engineering.</td>\n",
       "      <td>Self-reliance plays a crucial role in achieving success in software engineering for several reasons:</td>\n",
       "    </tr>\n",
       "  </tbody>\n",
       "</table>\n",
       "</div>"
      ],
      "text/plain": [
       "        id  \\\n",
       "0  1097671   \n",
       "1  1726150   \n",
       "2  3211968   \n",
       "\n",
       "                                                                                           topic  \\\n",
       "0           Compare and contrast the importance of self-reliance and adaptability in healthcare.   \n",
       "1  Evaluate the effectiveness of management consulting in addressing conflicts within marketing.   \n",
       "2                Discuss the role of self-reliance in achieving success in software engineering.   \n",
       "\n",
       "                                                                                                                                                                                                                                                                                                                                     essay  \n",
       "0  Self-reliance and adaptability are both crucial attributes in the healthcare sector, yet they serve different purposes and are manifested in various ways.\\n\\nSelf-reliance in healthcare refers to the ability of healthcare professionals, patients, and institutions to manage their resources, knowledge, and skills independently.  \n",
       "1                                                                                                                                                Management consulting can be highly effective in addressing conflicts within marketing by providing an objective, expert perspective that can help resolve issues and improve strategies.  \n",
       "2                                                                                                                                                                                                                                     Self-reliance plays a crucial role in achieving success in software engineering for several reasons:  "
      ]
     },
     "execution_count": 7,
     "metadata": {},
     "output_type": "execute_result"
    }
   ],
   "source": [
    "essays = []\n",
    "for i,row in test_df.iterrows():\n",
    "    essays.append(get_response([\n",
    "   {\"role\": \"user\", \"content\": row['topic']}]))\n",
    "\n",
    "\n",
    "test_df['essay'] = essays\n",
    "\n",
    "test_df"
   ]
  },
  {
   "cell_type": "code",
   "execution_count": 8,
   "id": "cbcff29e",
   "metadata": {
    "execution": {
     "iopub.execute_input": "2025-01-28T23:30:16.155243Z",
     "iopub.status.busy": "2025-01-28T23:30:16.154977Z",
     "iopub.status.idle": "2025-01-28T23:30:16.163863Z",
     "shell.execute_reply": "2025-01-28T23:30:16.163314Z"
    },
    "papermill": {
     "duration": 0.013384,
     "end_time": "2025-01-28T23:30:16.165018",
     "exception": false,
     "start_time": "2025-01-28T23:30:16.151634",
     "status": "completed"
    },
    "tags": []
   },
   "outputs": [],
   "source": [
    "submission = test_df[['id','essay']]"
   ]
  },
  {
   "cell_type": "code",
   "execution_count": 9,
   "id": "4619d361",
   "metadata": {
    "execution": {
     "iopub.execute_input": "2025-01-28T23:30:16.171011Z",
     "iopub.status.busy": "2025-01-28T23:30:16.170807Z",
     "iopub.status.idle": "2025-01-28T23:30:16.179649Z",
     "shell.execute_reply": "2025-01-28T23:30:16.178868Z"
    },
    "papermill": {
     "duration": 0.013179,
     "end_time": "2025-01-28T23:30:16.180901",
     "exception": false,
     "start_time": "2025-01-28T23:30:16.167722",
     "status": "completed"
    },
    "tags": []
   },
   "outputs": [],
   "source": [
    "submission.to_csv(\"submission.csv\")"
   ]
  }
 ],
 "metadata": {
  "kaggle": {
   "accelerator": "nvidiaTeslaT4",
   "dataSources": [
    {
     "databundleVersionId": 10369658,
     "sourceId": 83035,
     "sourceType": "competition"
    },
    {
     "isSourceIdPinned": true,
     "modelId": 123513,
     "modelInstanceId": 99348,
     "sourceId": 118141,
     "sourceType": "modelInstanceVersion"
    },
    {
     "isSourceIdPinned": true,
     "modelId": 225262,
     "modelInstanceId": 204042,
     "sourceId": 238909,
     "sourceType": "modelInstanceVersion"
    }
   ],
   "dockerImageVersionId": 30840,
   "isGpuEnabled": true,
   "isInternetEnabled": false,
   "language": "python",
   "sourceType": "notebook"
  },
  "kernelspec": {
   "display_name": "Python 3",
   "language": "python",
   "name": "python3"
  },
  "language_info": {
   "codemirror_mode": {
    "name": "ipython",
    "version": 3
   },
   "file_extension": ".py",
   "mimetype": "text/x-python",
   "name": "python",
   "nbconvert_exporter": "python",
   "pygments_lexer": "ipython3",
   "version": "3.10.12"
  },
  "papermill": {
   "default_parameters": {},
   "duration": 142.814463,
   "end_time": "2025-01-28T23:30:19.228421",
   "environment_variables": {},
   "exception": null,
   "input_path": "__notebook__.ipynb",
   "output_path": "__notebook__.ipynb",
   "parameters": {},
   "start_time": "2025-01-28T23:27:56.413958",
   "version": "2.6.0"
  },
  "widgets": {
   "application/vnd.jupyter.widget-state+json": {
    "state": {
     "0428ad2e857a4d35bae4252fd58fa59f": {
      "model_module": "@jupyter-widgets/controls",
      "model_module_version": "2.0.0",
      "model_name": "ProgressStyleModel",
      "state": {
       "_model_module": "@jupyter-widgets/controls",
       "_model_module_version": "2.0.0",
       "_model_name": "ProgressStyleModel",
       "_view_count": null,
       "_view_module": "@jupyter-widgets/base",
       "_view_module_version": "2.0.0",
       "_view_name": "StyleView",
       "bar_color": null,
       "description_width": ""
      }
     },
     "052c144262034a21aa0c195ab8834f35": {
      "model_module": "@jupyter-widgets/base",
      "model_module_version": "2.0.0",
      "model_name": "LayoutModel",
      "state": {
       "_model_module": "@jupyter-widgets/base",
       "_model_module_version": "2.0.0",
       "_model_name": "LayoutModel",
       "_view_count": null,
       "_view_module": "@jupyter-widgets/base",
       "_view_module_version": "2.0.0",
       "_view_name": "LayoutView",
       "align_content": null,
       "align_items": null,
       "align_self": null,
       "border_bottom": null,
       "border_left": null,
       "border_right": null,
       "border_top": null,
       "bottom": null,
       "display": null,
       "flex": null,
       "flex_flow": null,
       "grid_area": null,
       "grid_auto_columns": null,
       "grid_auto_flow": null,
       "grid_auto_rows": null,
       "grid_column": null,
       "grid_gap": null,
       "grid_row": null,
       "grid_template_areas": null,
       "grid_template_columns": null,
       "grid_template_rows": null,
       "height": null,
       "justify_content": null,
       "justify_items": null,
       "left": null,
       "margin": null,
       "max_height": null,
       "max_width": null,
       "min_height": null,
       "min_width": null,
       "object_fit": null,
       "object_position": null,
       "order": null,
       "overflow": null,
       "padding": null,
       "right": null,
       "top": null,
       "visibility": null,
       "width": null
      }
     },
     "0c24b2664b5047258cdc06df635604b7": {
      "model_module": "@jupyter-widgets/base",
      "model_module_version": "2.0.0",
      "model_name": "LayoutModel",
      "state": {
       "_model_module": "@jupyter-widgets/base",
       "_model_module_version": "2.0.0",
       "_model_name": "LayoutModel",
       "_view_count": null,
       "_view_module": "@jupyter-widgets/base",
       "_view_module_version": "2.0.0",
       "_view_name": "LayoutView",
       "align_content": null,
       "align_items": null,
       "align_self": null,
       "border_bottom": null,
       "border_left": null,
       "border_right": null,
       "border_top": null,
       "bottom": null,
       "display": null,
       "flex": null,
       "flex_flow": null,
       "grid_area": null,
       "grid_auto_columns": null,
       "grid_auto_flow": null,
       "grid_auto_rows": null,
       "grid_column": null,
       "grid_gap": null,
       "grid_row": null,
       "grid_template_areas": null,
       "grid_template_columns": null,
       "grid_template_rows": null,
       "height": null,
       "justify_content": null,
       "justify_items": null,
       "left": null,
       "margin": null,
       "max_height": null,
       "max_width": null,
       "min_height": null,
       "min_width": null,
       "object_fit": null,
       "object_position": null,
       "order": null,
       "overflow": null,
       "padding": null,
       "right": null,
       "top": null,
       "visibility": null,
       "width": null
      }
     },
     "0e7b6ed659c443aca1917be733b9963d": {
      "model_module": "@jupyter-widgets/controls",
      "model_module_version": "2.0.0",
      "model_name": "FloatProgressModel",
      "state": {
       "_dom_classes": [],
       "_model_module": "@jupyter-widgets/controls",
       "_model_module_version": "2.0.0",
       "_model_name": "FloatProgressModel",
       "_view_count": null,
       "_view_module": "@jupyter-widgets/controls",
       "_view_module_version": "2.0.0",
       "_view_name": "ProgressView",
       "bar_style": "success",
       "description": "",
       "description_allow_html": false,
       "layout": "IPY_MODEL_0c24b2664b5047258cdc06df635604b7",
       "max": 2.0,
       "min": 0.0,
       "orientation": "horizontal",
       "style": "IPY_MODEL_0428ad2e857a4d35bae4252fd58fa59f",
       "tabbable": null,
       "tooltip": null,
       "value": 2.0
      }
     },
     "2731d886dbc94363a41238dbd20d37d0": {
      "model_module": "@jupyter-widgets/controls",
      "model_module_version": "2.0.0",
      "model_name": "HTMLModel",
      "state": {
       "_dom_classes": [],
       "_model_module": "@jupyter-widgets/controls",
       "_model_module_version": "2.0.0",
       "_model_name": "HTMLModel",
       "_view_count": null,
       "_view_module": "@jupyter-widgets/controls",
       "_view_module_version": "2.0.0",
       "_view_name": "HTMLView",
       "description": "",
       "description_allow_html": false,
       "layout": "IPY_MODEL_052c144262034a21aa0c195ab8834f35",
       "placeholder": "​",
       "style": "IPY_MODEL_42c55087a55541e589e9879426b0d103",
       "tabbable": null,
       "tooltip": null,
       "value": " 2/2 [00:59&lt;00:00, 28.23s/it]"
      }
     },
     "42c55087a55541e589e9879426b0d103": {
      "model_module": "@jupyter-widgets/controls",
      "model_module_version": "2.0.0",
      "model_name": "HTMLStyleModel",
      "state": {
       "_model_module": "@jupyter-widgets/controls",
       "_model_module_version": "2.0.0",
       "_model_name": "HTMLStyleModel",
       "_view_count": null,
       "_view_module": "@jupyter-widgets/base",
       "_view_module_version": "2.0.0",
       "_view_name": "StyleView",
       "background": null,
       "description_width": "",
       "font_size": null,
       "text_color": null
      }
     },
     "77571f21f4c44c7c9df8e02805fcd87a": {
      "model_module": "@jupyter-widgets/controls",
      "model_module_version": "2.0.0",
      "model_name": "HTMLStyleModel",
      "state": {
       "_model_module": "@jupyter-widgets/controls",
       "_model_module_version": "2.0.0",
       "_model_name": "HTMLStyleModel",
       "_view_count": null,
       "_view_module": "@jupyter-widgets/base",
       "_view_module_version": "2.0.0",
       "_view_name": "StyleView",
       "background": null,
       "description_width": "",
       "font_size": null,
       "text_color": null
      }
     },
     "94f062e1e5da4e1a9a9537593d6a4b87": {
      "model_module": "@jupyter-widgets/base",
      "model_module_version": "2.0.0",
      "model_name": "LayoutModel",
      "state": {
       "_model_module": "@jupyter-widgets/base",
       "_model_module_version": "2.0.0",
       "_model_name": "LayoutModel",
       "_view_count": null,
       "_view_module": "@jupyter-widgets/base",
       "_view_module_version": "2.0.0",
       "_view_name": "LayoutView",
       "align_content": null,
       "align_items": null,
       "align_self": null,
       "border_bottom": null,
       "border_left": null,
       "border_right": null,
       "border_top": null,
       "bottom": null,
       "display": null,
       "flex": null,
       "flex_flow": null,
       "grid_area": null,
       "grid_auto_columns": null,
       "grid_auto_flow": null,
       "grid_auto_rows": null,
       "grid_column": null,
       "grid_gap": null,
       "grid_row": null,
       "grid_template_areas": null,
       "grid_template_columns": null,
       "grid_template_rows": null,
       "height": null,
       "justify_content": null,
       "justify_items": null,
       "left": null,
       "margin": null,
       "max_height": null,
       "max_width": null,
       "min_height": null,
       "min_width": null,
       "object_fit": null,
       "object_position": null,
       "order": null,
       "overflow": null,
       "padding": null,
       "right": null,
       "top": null,
       "visibility": null,
       "width": null
      }
     },
     "a3cebf3256504d0b90b4825e5d174cbe": {
      "model_module": "@jupyter-widgets/controls",
      "model_module_version": "2.0.0",
      "model_name": "HTMLModel",
      "state": {
       "_dom_classes": [],
       "_model_module": "@jupyter-widgets/controls",
       "_model_module_version": "2.0.0",
       "_model_name": "HTMLModel",
       "_view_count": null,
       "_view_module": "@jupyter-widgets/controls",
       "_view_module_version": "2.0.0",
       "_view_name": "HTMLView",
       "description": "",
       "description_allow_html": false,
       "layout": "IPY_MODEL_94f062e1e5da4e1a9a9537593d6a4b87",
       "placeholder": "​",
       "style": "IPY_MODEL_77571f21f4c44c7c9df8e02805fcd87a",
       "tabbable": null,
       "tooltip": null,
       "value": "Loading checkpoint shards: 100%"
      }
     },
     "a9bf601371df404db7888f4d1a98c153": {
      "model_module": "@jupyter-widgets/base",
      "model_module_version": "2.0.0",
      "model_name": "LayoutModel",
      "state": {
       "_model_module": "@jupyter-widgets/base",
       "_model_module_version": "2.0.0",
       "_model_name": "LayoutModel",
       "_view_count": null,
       "_view_module": "@jupyter-widgets/base",
       "_view_module_version": "2.0.0",
       "_view_name": "LayoutView",
       "align_content": null,
       "align_items": null,
       "align_self": null,
       "border_bottom": null,
       "border_left": null,
       "border_right": null,
       "border_top": null,
       "bottom": null,
       "display": null,
       "flex": null,
       "flex_flow": null,
       "grid_area": null,
       "grid_auto_columns": null,
       "grid_auto_flow": null,
       "grid_auto_rows": null,
       "grid_column": null,
       "grid_gap": null,
       "grid_row": null,
       "grid_template_areas": null,
       "grid_template_columns": null,
       "grid_template_rows": null,
       "height": null,
       "justify_content": null,
       "justify_items": null,
       "left": null,
       "margin": null,
       "max_height": null,
       "max_width": null,
       "min_height": null,
       "min_width": null,
       "object_fit": null,
       "object_position": null,
       "order": null,
       "overflow": null,
       "padding": null,
       "right": null,
       "top": null,
       "visibility": null,
       "width": null
      }
     },
     "acf5aa45bd32448bb23e1bffddf4a2b5": {
      "model_module": "@jupyter-widgets/controls",
      "model_module_version": "2.0.0",
      "model_name": "HBoxModel",
      "state": {
       "_dom_classes": [],
       "_model_module": "@jupyter-widgets/controls",
       "_model_module_version": "2.0.0",
       "_model_name": "HBoxModel",
       "_view_count": null,
       "_view_module": "@jupyter-widgets/controls",
       "_view_module_version": "2.0.0",
       "_view_name": "HBoxView",
       "box_style": "",
       "children": [
        "IPY_MODEL_a3cebf3256504d0b90b4825e5d174cbe",
        "IPY_MODEL_0e7b6ed659c443aca1917be733b9963d",
        "IPY_MODEL_2731d886dbc94363a41238dbd20d37d0"
       ],
       "layout": "IPY_MODEL_a9bf601371df404db7888f4d1a98c153",
       "tabbable": null,
       "tooltip": null
      }
     }
    },
    "version_major": 2,
    "version_minor": 0
   }
  }
 },
 "nbformat": 4,
 "nbformat_minor": 5
}
