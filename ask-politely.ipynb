{
 "cells": [
  {
   "cell_type": "code",
   "execution_count": 1,
   "id": "94b5df6f",
   "metadata": {
    "_cell_guid": "b1076dfc-b9ad-4769-8c92-a6c4dae69d19",
    "_uuid": "8f2839f25d086af736a60e9eeb907d3b93b6e0e5",
    "execution": {
     "iopub.execute_input": "2025-01-29T22:40:40.675328Z",
     "iopub.status.busy": "2025-01-29T22:40:40.675053Z",
     "iopub.status.idle": "2025-01-29T22:40:41.413920Z",
     "shell.execute_reply": "2025-01-29T22:40:41.412901Z"
    },
    "papermill": {
     "duration": 0.743892,
     "end_time": "2025-01-29T22:40:41.415353",
     "exception": false,
     "start_time": "2025-01-29T22:40:40.671461",
     "status": "completed"
    },
    "tags": []
   },
   "outputs": [
    {
     "name": "stdout",
     "output_type": "stream",
     "text": [
      "/kaggle/input/phi-3.5-mini-instruct/pytorch/default/1/model.safetensors.index.json\n",
      "/kaggle/input/phi-3.5-mini-instruct/pytorch/default/1/CODE_OF_CONDUCT.md\n",
      "/kaggle/input/phi-3.5-mini-instruct/pytorch/default/1/config.json\n",
      "/kaggle/input/phi-3.5-mini-instruct/pytorch/default/1/model-00001-of-00002.safetensors\n",
      "/kaggle/input/phi-3.5-mini-instruct/pytorch/default/1/LICENSE\n",
      "/kaggle/input/phi-3.5-mini-instruct/pytorch/default/1/model-00002-of-00002.safetensors\n",
      "/kaggle/input/phi-3.5-mini-instruct/pytorch/default/1/modeling_phi3.py\n",
      "/kaggle/input/phi-3.5-mini-instruct/pytorch/default/1/README.md\n",
      "/kaggle/input/phi-3.5-mini-instruct/pytorch/default/1/SECURITY.md\n",
      "/kaggle/input/phi-3.5-mini-instruct/pytorch/default/1/tokenizer.json\n",
      "/kaggle/input/phi-3.5-mini-instruct/pytorch/default/1/tokenizer_config.json\n",
      "/kaggle/input/phi-3.5-mini-instruct/pytorch/default/1/gitattributes\n",
      "/kaggle/input/phi-3.5-mini-instruct/pytorch/default/1/sample_finetune.py\n",
      "/kaggle/input/phi-3.5-mini-instruct/pytorch/default/1/special_tokens_map.json\n",
      "/kaggle/input/phi-3.5-mini-instruct/pytorch/default/1/tokenizer.model\n",
      "/kaggle/input/phi-3.5-mini-instruct/pytorch/default/1/NOTICE.md\n",
      "/kaggle/input/phi-3.5-mini-instruct/pytorch/default/1/added_tokens.json\n",
      "/kaggle/input/phi-3.5-mini-instruct/pytorch/default/1/configuration_phi3.py\n",
      "/kaggle/input/phi-3.5-mini-instruct/pytorch/default/1/generation_config.json\n",
      "/kaggle/input/llms-you-cant-please-them-all/sample_submission.csv\n",
      "/kaggle/input/llms-you-cant-please-them-all/test.csv\n",
      "/kaggle/input/deepseek-r1/transformers/deepseek-r1-distill-qwen-1.5b/1/config.json\n",
      "/kaggle/input/deepseek-r1/transformers/deepseek-r1-distill-qwen-1.5b/1/LICENSE\n",
      "/kaggle/input/deepseek-r1/transformers/deepseek-r1-distill-qwen-1.5b/1/README.md\n",
      "/kaggle/input/deepseek-r1/transformers/deepseek-r1-distill-qwen-1.5b/1/tokenizer.json\n",
      "/kaggle/input/deepseek-r1/transformers/deepseek-r1-distill-qwen-1.5b/1/tokenizer_config.json\n",
      "/kaggle/input/deepseek-r1/transformers/deepseek-r1-distill-qwen-1.5b/1/model.safetensors\n",
      "/kaggle/input/deepseek-r1/transformers/deepseek-r1-distill-qwen-1.5b/1/.gitattributes\n",
      "/kaggle/input/deepseek-r1/transformers/deepseek-r1-distill-qwen-1.5b/1/generation_config.json\n",
      "/kaggle/input/deepseek-r1/transformers/deepseek-r1-distill-qwen-1.5b/1/figures/benchmark.jpg\n"
     ]
    }
   ],
   "source": [
    "# This Python 3 environment comes with many helpful analytics libraries installed\n",
    "# It is defined by the kaggle/python Docker image: https://github.com/kaggle/docker-python\n",
    "# For example, here's several helpful packages to load\n",
    "\n",
    "import numpy as np # linear algebra\n",
    "import pandas as pd # data processing, CSV file I/O (e.g. pd.read_csv)\n",
    "\n",
    "# Input data files are available in the read-only \"../input/\" directory\n",
    "# For example, running this (by clicking run or pressing Shift+Enter) will list all files under the input directory\n",
    "import os\n",
    "for dirname, _, filenames in os.walk('/kaggle/input'):\n",
    "    for filename in filenames:\n",
    "        print(os.path.join(dirname, filename))\n",
    "\n",
    "# You can write up to 20GB to the current directory (/kaggle/working/) that gets preserved as output when you create a version using \"Save & Run All\" \n",
    "# You can also write temporary files to /kaggle/temp/, but they won't be saved outside of the current session"
   ]
  },
  {
   "cell_type": "code",
   "execution_count": 2,
   "id": "20459214",
   "metadata": {
    "execution": {
     "iopub.execute_input": "2025-01-29T22:40:41.421581Z",
     "iopub.status.busy": "2025-01-29T22:40:41.421246Z",
     "iopub.status.idle": "2025-01-29T22:41:03.132612Z",
     "shell.execute_reply": "2025-01-29T22:41:03.131741Z"
    },
    "papermill": {
     "duration": 21.715618,
     "end_time": "2025-01-29T22:41:03.133871",
     "exception": false,
     "start_time": "2025-01-29T22:40:41.418253",
     "status": "completed"
    },
    "tags": []
   },
   "outputs": [
    {
     "data": {
      "text/html": [
       "<div>\n",
       "<style scoped>\n",
       "    .dataframe tbody tr th:only-of-type {\n",
       "        vertical-align: middle;\n",
       "    }\n",
       "\n",
       "    .dataframe tbody tr th {\n",
       "        vertical-align: top;\n",
       "    }\n",
       "\n",
       "    .dataframe thead th {\n",
       "        text-align: right;\n",
       "    }\n",
       "</style>\n",
       "<table border=\"1\" class=\"dataframe\">\n",
       "  <thead>\n",
       "    <tr style=\"text-align: right;\">\n",
       "      <th></th>\n",
       "      <th>id</th>\n",
       "      <th>topic</th>\n",
       "    </tr>\n",
       "  </thead>\n",
       "  <tbody>\n",
       "    <tr>\n",
       "      <th>0</th>\n",
       "      <td>1097671</td>\n",
       "      <td>Compare and contrast the importance of self-reliance and adaptability in healthcare.</td>\n",
       "    </tr>\n",
       "    <tr>\n",
       "      <th>1</th>\n",
       "      <td>1726150</td>\n",
       "      <td>Evaluate the effectiveness of management consulting in addressing conflicts within marketing.</td>\n",
       "    </tr>\n",
       "    <tr>\n",
       "      <th>2</th>\n",
       "      <td>3211968</td>\n",
       "      <td>Discuss the role of self-reliance in achieving success in software engineering.</td>\n",
       "    </tr>\n",
       "  </tbody>\n",
       "</table>\n",
       "</div>"
      ],
      "text/plain": [
       "        id  \\\n",
       "0  1097671   \n",
       "1  1726150   \n",
       "2  3211968   \n",
       "\n",
       "                                                                                           topic  \n",
       "0           Compare and contrast the importance of self-reliance and adaptability in healthcare.  \n",
       "1  Evaluate the effectiveness of management consulting in addressing conflicts within marketing.  \n",
       "2                Discuss the role of self-reliance in achieving success in software engineering.  "
      ]
     },
     "execution_count": 2,
     "metadata": {},
     "output_type": "execute_result"
    }
   ],
   "source": [
    "import sys \n",
    "import torch\n",
    "import random\n",
    "import numpy as np\n",
    "import pandas as pd\n",
    "import gc\n",
    "import time\n",
    "import random\n",
    "from tqdm import tqdm\n",
    "\n",
    "from IPython.display import display\n",
    "\n",
    "from transformers import pipeline, AutoTokenizer, AutoModelForCausalLM, AutoModel\n",
    "\n",
    "if (not torch.cuda.is_available()): print(\"Sorry - GPU required!\")\n",
    "    \n",
    "import logging\n",
    "logging.getLogger('transformers').setLevel(logging.ERROR)\n",
    "\n",
    "pd.set_option('display.max_colwidth', None)\n",
    "pd.set_option('display.max_rows', None)\n",
    "pd.set_option('display.width', None)\n",
    "\n",
    "test_df = pd.read_csv(\"/kaggle/input/llms-you-cant-please-them-all/test.csv\")\n",
    "test_df"
   ]
  },
  {
   "cell_type": "code",
   "execution_count": 3,
   "id": "472fb26e",
   "metadata": {
    "execution": {
     "iopub.execute_input": "2025-01-29T22:41:03.140734Z",
     "iopub.status.busy": "2025-01-29T22:41:03.140450Z",
     "iopub.status.idle": "2025-01-29T22:41:59.075770Z",
     "shell.execute_reply": "2025-01-29T22:41:59.074886Z"
    },
    "papermill": {
     "duration": 55.940429,
     "end_time": "2025-01-29T22:41:59.077444",
     "exception": false,
     "start_time": "2025-01-29T22:41:03.137015",
     "status": "completed"
    },
    "tags": []
   },
   "outputs": [
    {
     "data": {
      "application/vnd.jupyter.widget-view+json": {
       "model_id": "8adacf9fe8b64291abfbbdba921dc5fe",
       "version_major": 2,
       "version_minor": 0
      },
      "text/plain": [
       "Loading checkpoint shards:   0%|          | 0/2 [00:00<?, ?it/s]"
      ]
     },
     "metadata": {},
     "output_type": "display_data"
    }
   ],
   "source": [
    "# Clear GPU memory and delete existing objects if they exist\n",
    "if torch.cuda.is_available():\n",
    "    torch.cuda.empty_cache()\n",
    "for obj in ['model', 'pipe', 'tokenizer']:\n",
    "    if obj in globals():\n",
    "        del globals()[obj]\n",
    "\n",
    "# Model configuration\n",
    "model_name = '/kaggle/input/phi-3.5-mini-instruct/pytorch/default/1'\n",
    "\n",
    "\n",
    "# Load tokenizer\n",
    "tokenizer = AutoTokenizer.from_pretrained(model_name)\n",
    "\n",
    "# Load model\n",
    "model = AutoModelForCausalLM.from_pretrained(\n",
    "    model_name,\n",
    "    torch_dtype=torch.bfloat16,\n",
    "    device_map=\"auto\",\n",
    "    trust_remote_code=True\n",
    ")"
   ]
  },
  {
   "cell_type": "code",
   "execution_count": 4,
   "id": "72a5457d",
   "metadata": {
    "execution": {
     "iopub.execute_input": "2025-01-29T22:41:59.083892Z",
     "iopub.status.busy": "2025-01-29T22:41:59.083663Z",
     "iopub.status.idle": "2025-01-29T22:41:59.088742Z",
     "shell.execute_reply": "2025-01-29T22:41:59.088121Z"
    },
    "papermill": {
     "duration": 0.0094,
     "end_time": "2025-01-29T22:41:59.089931",
     "exception": false,
     "start_time": "2025-01-29T22:41:59.080531",
     "status": "completed"
    },
    "tags": []
   },
   "outputs": [],
   "source": [
    "max_new_tokens = 180  # Maximum length of generated text (can be overridden)\n",
    "\n",
    "word_count_to_request = 60   #We ask the model for this many words as part of the prompt prefix\n",
    "\n",
    "temperature = 0.7    # Higher temperature = more random/creative outputs\n",
    "top_p = 0.7         # Nucleus sampling parameter for more diverse outputs (1.0 disables filtering)\n",
    "\n",
    "# Create pipeline with parameters\n",
    "pipe = pipeline(\n",
    "    \"text-generation\", \n",
    "    model=model, \n",
    "    tokenizer=tokenizer, \n",
    "    trust_remote_code=True,\n",
    "    max_new_tokens=max_new_tokens,\n",
    "    temperature=temperature,\n",
    "    top_p=top_p,\n",
    "    do_sample=True\n",
    ")\n",
    "\n",
    "\n",
    "# pipe = pipeline(\n",
    "#     \"text-generation\", \n",
    "#     model=\"microsoft/phi-2\", \n",
    "#     # tokenizer=tokenizer, \n",
    "#     trust_remote_code=True,\n",
    "#     max_new_tokens=max_new_tokens,\n",
    "#     temperature=temperature,\n",
    "#     top_p=top_p,\n",
    "#     do_sample=True\n",
    "# )\n"
   ]
  },
  {
   "cell_type": "code",
   "execution_count": 5,
   "id": "12444053",
   "metadata": {
    "execution": {
     "iopub.execute_input": "2025-01-29T22:41:59.095832Z",
     "iopub.status.busy": "2025-01-29T22:41:59.095617Z",
     "iopub.status.idle": "2025-01-29T22:41:59.099824Z",
     "shell.execute_reply": "2025-01-29T22:41:59.099248Z"
    },
    "papermill": {
     "duration": 0.008487,
     "end_time": "2025-01-29T22:41:59.101046",
     "exception": false,
     "start_time": "2025-01-29T22:41:59.092559",
     "status": "completed"
    },
    "tags": []
   },
   "outputs": [],
   "source": [
    "def get_response(messages, trim_numbered_lists=True, max_tokens=None):\n",
    "    # Set max_new_tokens for this specific call if provided\n",
    "    generation_params = {}\n",
    "    if max_tokens:\n",
    "        generation_params['max_new_tokens'] = max_tokens\n",
    "    \n",
    "    # Generate response with optional max_tokens\n",
    "    response = pipe(messages, **generation_params)[0]['generated_text'][-1]['content']\n",
    "    \n",
    "    # Rest of function remains the same\n",
    "    response = response.strip()\n",
    "    if trim_numbered_lists and \"1.\" in response:\n",
    "        response = response[:response.find(\"1.\")].strip()\n",
    "    \n",
    "    last_punct = max(response.rfind('.'), response.rfind('?'), \n",
    "                    response.rfind('!'), response.rfind(']'))\n",
    "    \n",
    "    return response[:last_punct + 1] if last_punct != -1 else response"
   ]
  },
  {
   "cell_type": "code",
   "execution_count": 6,
   "id": "6cb8152f",
   "metadata": {
    "execution": {
     "iopub.execute_input": "2025-01-29T22:41:59.106910Z",
     "iopub.status.busy": "2025-01-29T22:41:59.106684Z",
     "iopub.status.idle": "2025-01-29T22:42:13.492456Z",
     "shell.execute_reply": "2025-01-29T22:42:13.491628Z"
    },
    "papermill": {
     "duration": 14.39026,
     "end_time": "2025-01-29T22:42:13.493952",
     "exception": false,
     "start_time": "2025-01-29T22:41:59.103692",
     "status": "completed"
    },
    "tags": []
   },
   "outputs": [
    {
     "data": {
      "text/plain": [
       "\"**The Joyful Symphony of Spending Money**\\n\\nIn the grand tapestry of human experience, money often takes center stage as a symbol of freedom, power, and opportunity. While it's easy to focus on the necessity of earning and the discipline of saving, there is an undeniable joy that accompanies the act of spending money—a joy that can enrich lives, create memories, and foster a sense of fulfillment.\\n\\nThe first note in the symphony of spending is the anticipation. Before the purchase, there is a spark of excitement. The idea of acquiring something new, be it a piece of technology, a book, or a ticket to an exotic destination, stirs the imagination and sets the heart racing.\""
      ]
     },
     "execution_count": 6,
     "metadata": {},
     "output_type": "execute_result"
    }
   ],
   "source": [
    "messages = [\n",
    "   {\"role\": \"user\", \"content\": \"write me a short essay on the joys of spending money\"},\n",
    "]\n",
    "get_response(messages)"
   ]
  },
  {
   "cell_type": "code",
   "execution_count": 7,
   "id": "2adc8e1f",
   "metadata": {
    "execution": {
     "iopub.execute_input": "2025-01-29T22:42:13.500634Z",
     "iopub.status.busy": "2025-01-29T22:42:13.500359Z",
     "iopub.status.idle": "2025-01-29T22:42:53.640903Z",
     "shell.execute_reply": "2025-01-29T22:42:53.639986Z"
    },
    "papermill": {
     "duration": 40.148334,
     "end_time": "2025-01-29T22:42:53.645365",
     "exception": false,
     "start_time": "2025-01-29T22:42:13.497031",
     "status": "completed"
    },
    "tags": []
   },
   "outputs": [
    {
     "data": {
      "text/html": [
       "<div>\n",
       "<style scoped>\n",
       "    .dataframe tbody tr th:only-of-type {\n",
       "        vertical-align: middle;\n",
       "    }\n",
       "\n",
       "    .dataframe tbody tr th {\n",
       "        vertical-align: top;\n",
       "    }\n",
       "\n",
       "    .dataframe thead th {\n",
       "        text-align: right;\n",
       "    }\n",
       "</style>\n",
       "<table border=\"1\" class=\"dataframe\">\n",
       "  <thead>\n",
       "    <tr style=\"text-align: right;\">\n",
       "      <th></th>\n",
       "      <th>id</th>\n",
       "      <th>topic</th>\n",
       "      <th>essay</th>\n",
       "    </tr>\n",
       "  </thead>\n",
       "  <tbody>\n",
       "    <tr>\n",
       "      <th>0</th>\n",
       "      <td>1097671</td>\n",
       "      <td>Compare and contrast the importance of self-reliance and adaptability in healthcare.</td>\n",
       "      <td>Self-reliance and adaptability are both crucial qualities in the healthcare sector, yet they serve different purposes and manifest in various ways.\\n\\nSelf-reliance in healthcare refers to the ability of healthcare professionals to rely on their knowledge, skills, and judgment to make decisions and solve problems. It is the foundation of professional competence and is essential for delivering high-quality patient care. Self-reliant healthcare professionals are confident in their abilities, can work independently, and are less likely to make errors due to over-reliance on others. They are also better equipped to handle emergencies or situations where immediate decisions are necessary.\\n\\nOn the other hand, adaptability in healthcare refers to the ability of healthcare professionals to adjust to changes in the environment, patient needs, and new technologies.</td>\n",
       "    </tr>\n",
       "    <tr>\n",
       "      <th>1</th>\n",
       "      <td>1726150</td>\n",
       "      <td>Evaluate the effectiveness of management consulting in addressing conflicts within marketing.</td>\n",
       "      <td>Management consulting can be highly effective in addressing conflicts within marketing by providing objective insights, expert guidance, and strategic solutions.</td>\n",
       "    </tr>\n",
       "    <tr>\n",
       "      <th>2</th>\n",
       "      <td>3211968</td>\n",
       "      <td>Discuss the role of self-reliance in achieving success in software engineering.</td>\n",
       "      <td>Self-reliance plays a crucial role in achieving success in software engineering, as it encompasses a range of skills and attitudes that are vital for professionals in this field.</td>\n",
       "    </tr>\n",
       "  </tbody>\n",
       "</table>\n",
       "</div>"
      ],
      "text/plain": [
       "        id  \\\n",
       "0  1097671   \n",
       "1  1726150   \n",
       "2  3211968   \n",
       "\n",
       "                                                                                           topic  \\\n",
       "0           Compare and contrast the importance of self-reliance and adaptability in healthcare.   \n",
       "1  Evaluate the effectiveness of management consulting in addressing conflicts within marketing.   \n",
       "2                Discuss the role of self-reliance in achieving success in software engineering.   \n",
       "\n",
       "                                                                                                                                                                                                                                                                                                                                                                                                                                                                                                                                                                                                                                                                                                                                                                                                                                                                                                   essay  \n",
       "0  Self-reliance and adaptability are both crucial qualities in the healthcare sector, yet they serve different purposes and manifest in various ways.\\n\\nSelf-reliance in healthcare refers to the ability of healthcare professionals to rely on their knowledge, skills, and judgment to make decisions and solve problems. It is the foundation of professional competence and is essential for delivering high-quality patient care. Self-reliant healthcare professionals are confident in their abilities, can work independently, and are less likely to make errors due to over-reliance on others. They are also better equipped to handle emergencies or situations where immediate decisions are necessary.\\n\\nOn the other hand, adaptability in healthcare refers to the ability of healthcare professionals to adjust to changes in the environment, patient needs, and new technologies.  \n",
       "1                                                                                                                                                                                                                                                                                                                                                                                                                                                                                                                                                                                                                                                                                                                                      Management consulting can be highly effective in addressing conflicts within marketing by providing objective insights, expert guidance, and strategic solutions.  \n",
       "2                                                                                                                                                                                                                                                                                                                                                                                                                                                                                                                                                                                                                                                                                                                     Self-reliance plays a crucial role in achieving success in software engineering, as it encompasses a range of skills and attitudes that are vital for professionals in this field.  "
      ]
     },
     "execution_count": 7,
     "metadata": {},
     "output_type": "execute_result"
    }
   ],
   "source": [
    "essays = []\n",
    "for i,row in test_df.iterrows():\n",
    "    essays.append(get_response([\n",
    "   {\"role\": \"user\", \"content\": row['topic']}]))\n",
    "\n",
    "\n",
    "test_df['essay'] = essays\n",
    "\n",
    "test_df"
   ]
  },
  {
   "cell_type": "code",
   "execution_count": 8,
   "id": "34cb04a1",
   "metadata": {
    "execution": {
     "iopub.execute_input": "2025-01-29T22:42:53.652408Z",
     "iopub.status.busy": "2025-01-29T22:42:53.652140Z",
     "iopub.status.idle": "2025-01-29T22:42:53.662374Z",
     "shell.execute_reply": "2025-01-29T22:42:53.661685Z"
    },
    "papermill": {
     "duration": 0.01495,
     "end_time": "2025-01-29T22:42:53.663565",
     "exception": false,
     "start_time": "2025-01-29T22:42:53.648615",
     "status": "completed"
    },
    "tags": []
   },
   "outputs": [],
   "source": [
    "submission = test_df[['id','essay']]"
   ]
  },
  {
   "cell_type": "code",
   "execution_count": 9,
   "id": "b2bf8d5c",
   "metadata": {
    "execution": {
     "iopub.execute_input": "2025-01-29T22:42:53.670062Z",
     "iopub.status.busy": "2025-01-29T22:42:53.669848Z",
     "iopub.status.idle": "2025-01-29T22:42:53.676251Z",
     "shell.execute_reply": "2025-01-29T22:42:53.675457Z"
    },
    "papermill": {
     "duration": 0.01101,
     "end_time": "2025-01-29T22:42:53.677425",
     "exception": false,
     "start_time": "2025-01-29T22:42:53.666415",
     "status": "completed"
    },
    "tags": []
   },
   "outputs": [
    {
     "data": {
      "text/html": [
       "<div>\n",
       "<style scoped>\n",
       "    .dataframe tbody tr th:only-of-type {\n",
       "        vertical-align: middle;\n",
       "    }\n",
       "\n",
       "    .dataframe tbody tr th {\n",
       "        vertical-align: top;\n",
       "    }\n",
       "\n",
       "    .dataframe thead th {\n",
       "        text-align: right;\n",
       "    }\n",
       "</style>\n",
       "<table border=\"1\" class=\"dataframe\">\n",
       "  <thead>\n",
       "    <tr style=\"text-align: right;\">\n",
       "      <th></th>\n",
       "      <th>id</th>\n",
       "      <th>essay</th>\n",
       "    </tr>\n",
       "  </thead>\n",
       "  <tbody>\n",
       "    <tr>\n",
       "      <th>0</th>\n",
       "      <td>1097671</td>\n",
       "      <td>Self-reliance and adaptability are both crucial qualities in the healthcare sector, yet they serve different purposes and manifest in various ways.\\n\\nSelf-reliance in healthcare refers to the ability of healthcare professionals to rely on their knowledge, skills, and judgment to make decisions and solve problems. It is the foundation of professional competence and is essential for delivering high-quality patient care. Self-reliant healthcare professionals are confident in their abilities, can work independently, and are less likely to make errors due to over-reliance on others. They are also better equipped to handle emergencies or situations where immediate decisions are necessary.\\n\\nOn the other hand, adaptability in healthcare refers to the ability of healthcare professionals to adjust to changes in the environment, patient needs, and new technologies.</td>\n",
       "    </tr>\n",
       "    <tr>\n",
       "      <th>1</th>\n",
       "      <td>1726150</td>\n",
       "      <td>Management consulting can be highly effective in addressing conflicts within marketing by providing objective insights, expert guidance, and strategic solutions.</td>\n",
       "    </tr>\n",
       "    <tr>\n",
       "      <th>2</th>\n",
       "      <td>3211968</td>\n",
       "      <td>Self-reliance plays a crucial role in achieving success in software engineering, as it encompasses a range of skills and attitudes that are vital for professionals in this field.</td>\n",
       "    </tr>\n",
       "  </tbody>\n",
       "</table>\n",
       "</div>"
      ],
      "text/plain": [
       "        id  \\\n",
       "0  1097671   \n",
       "1  1726150   \n",
       "2  3211968   \n",
       "\n",
       "                                                                                                                                                                                                                                                                                                                                                                                                                                                                                                                                                                                                                                                                                                                                                                                                                                                                                                   essay  \n",
       "0  Self-reliance and adaptability are both crucial qualities in the healthcare sector, yet they serve different purposes and manifest in various ways.\\n\\nSelf-reliance in healthcare refers to the ability of healthcare professionals to rely on their knowledge, skills, and judgment to make decisions and solve problems. It is the foundation of professional competence and is essential for delivering high-quality patient care. Self-reliant healthcare professionals are confident in their abilities, can work independently, and are less likely to make errors due to over-reliance on others. They are also better equipped to handle emergencies or situations where immediate decisions are necessary.\\n\\nOn the other hand, adaptability in healthcare refers to the ability of healthcare professionals to adjust to changes in the environment, patient needs, and new technologies.  \n",
       "1                                                                                                                                                                                                                                                                                                                                                                                                                                                                                                                                                                                                                                                                                                                                      Management consulting can be highly effective in addressing conflicts within marketing by providing objective insights, expert guidance, and strategic solutions.  \n",
       "2                                                                                                                                                                                                                                                                                                                                                                                                                                                                                                                                                                                                                                                                                                                     Self-reliance plays a crucial role in achieving success in software engineering, as it encompasses a range of skills and attitudes that are vital for professionals in this field.  "
      ]
     },
     "execution_count": 9,
     "metadata": {},
     "output_type": "execute_result"
    }
   ],
   "source": [
    "submission"
   ]
  },
  {
   "cell_type": "code",
   "execution_count": 10,
   "id": "ad9f559d",
   "metadata": {
    "execution": {
     "iopub.execute_input": "2025-01-29T22:42:53.684253Z",
     "iopub.status.busy": "2025-01-29T22:42:53.684002Z",
     "iopub.status.idle": "2025-01-29T22:42:53.692836Z",
     "shell.execute_reply": "2025-01-29T22:42:53.692278Z"
    },
    "papermill": {
     "duration": 0.013447,
     "end_time": "2025-01-29T22:42:53.694007",
     "exception": false,
     "start_time": "2025-01-29T22:42:53.680560",
     "status": "completed"
    },
    "tags": []
   },
   "outputs": [],
   "source": [
    "submission.to_csv(\"submission.csv\")"
   ]
  }
 ],
 "metadata": {
  "kaggle": {
   "accelerator": "nvidiaTeslaT4",
   "dataSources": [
    {
     "databundleVersionId": 10369658,
     "sourceId": 83035,
     "sourceType": "competition"
    },
    {
     "isSourceIdPinned": true,
     "modelId": 123513,
     "modelInstanceId": 99348,
     "sourceId": 118141,
     "sourceType": "modelInstanceVersion"
    },
    {
     "isSourceIdPinned": true,
     "modelId": 225262,
     "modelInstanceId": 204042,
     "sourceId": 238909,
     "sourceType": "modelInstanceVersion"
    }
   ],
   "dockerImageVersionId": 30840,
   "isGpuEnabled": true,
   "isInternetEnabled": false,
   "language": "python",
   "sourceType": "notebook"
  },
  "kernelspec": {
   "display_name": "Python 3",
   "language": "python",
   "name": "python3"
  },
  "language_info": {
   "codemirror_mode": {
    "name": "ipython",
    "version": 3
   },
   "file_extension": ".py",
   "mimetype": "text/x-python",
   "name": "python",
   "nbconvert_exporter": "python",
   "pygments_lexer": "ipython3",
   "version": "3.10.12"
  },
  "papermill": {
   "default_parameters": {},
   "duration": 138.836643,
   "end_time": "2025-01-29T22:42:56.905911",
   "environment_variables": {},
   "exception": null,
   "input_path": "__notebook__.ipynb",
   "output_path": "__notebook__.ipynb",
   "parameters": {},
   "start_time": "2025-01-29T22:40:38.069268",
   "version": "2.6.0"
  },
  "widgets": {
   "application/vnd.jupyter.widget-state+json": {
    "state": {
     "07db21d120b94a959bd57a3898fe0e63": {
      "model_module": "@jupyter-widgets/controls",
      "model_module_version": "2.0.0",
      "model_name": "HTMLModel",
      "state": {
       "_dom_classes": [],
       "_model_module": "@jupyter-widgets/controls",
       "_model_module_version": "2.0.0",
       "_model_name": "HTMLModel",
       "_view_count": null,
       "_view_module": "@jupyter-widgets/controls",
       "_view_module_version": "2.0.0",
       "_view_name": "HTMLView",
       "description": "",
       "description_allow_html": false,
       "layout": "IPY_MODEL_be08ad579e4343dd979b54b049875428",
       "placeholder": "​",
       "style": "IPY_MODEL_64349a69e9454427a71de4ec7c1dc9fe",
       "tabbable": null,
       "tooltip": null,
       "value": " 2/2 [00:55&lt;00:00, 25.98s/it]"
      }
     },
     "1250c4b4f0b449619345b860757aa7d3": {
      "model_module": "@jupyter-widgets/base",
      "model_module_version": "2.0.0",
      "model_name": "LayoutModel",
      "state": {
       "_model_module": "@jupyter-widgets/base",
       "_model_module_version": "2.0.0",
       "_model_name": "LayoutModel",
       "_view_count": null,
       "_view_module": "@jupyter-widgets/base",
       "_view_module_version": "2.0.0",
       "_view_name": "LayoutView",
       "align_content": null,
       "align_items": null,
       "align_self": null,
       "border_bottom": null,
       "border_left": null,
       "border_right": null,
       "border_top": null,
       "bottom": null,
       "display": null,
       "flex": null,
       "flex_flow": null,
       "grid_area": null,
       "grid_auto_columns": null,
       "grid_auto_flow": null,
       "grid_auto_rows": null,
       "grid_column": null,
       "grid_gap": null,
       "grid_row": null,
       "grid_template_areas": null,
       "grid_template_columns": null,
       "grid_template_rows": null,
       "height": null,
       "justify_content": null,
       "justify_items": null,
       "left": null,
       "margin": null,
       "max_height": null,
       "max_width": null,
       "min_height": null,
       "min_width": null,
       "object_fit": null,
       "object_position": null,
       "order": null,
       "overflow": null,
       "padding": null,
       "right": null,
       "top": null,
       "visibility": null,
       "width": null
      }
     },
     "64349a69e9454427a71de4ec7c1dc9fe": {
      "model_module": "@jupyter-widgets/controls",
      "model_module_version": "2.0.0",
      "model_name": "HTMLStyleModel",
      "state": {
       "_model_module": "@jupyter-widgets/controls",
       "_model_module_version": "2.0.0",
       "_model_name": "HTMLStyleModel",
       "_view_count": null,
       "_view_module": "@jupyter-widgets/base",
       "_view_module_version": "2.0.0",
       "_view_name": "StyleView",
       "background": null,
       "description_width": "",
       "font_size": null,
       "text_color": null
      }
     },
     "693207ae89c74d11b46097705cc79321": {
      "model_module": "@jupyter-widgets/controls",
      "model_module_version": "2.0.0",
      "model_name": "FloatProgressModel",
      "state": {
       "_dom_classes": [],
       "_model_module": "@jupyter-widgets/controls",
       "_model_module_version": "2.0.0",
       "_model_name": "FloatProgressModel",
       "_view_count": null,
       "_view_module": "@jupyter-widgets/controls",
       "_view_module_version": "2.0.0",
       "_view_name": "ProgressView",
       "bar_style": "success",
       "description": "",
       "description_allow_html": false,
       "layout": "IPY_MODEL_d48ba758f06549e189787aaa86c22a23",
       "max": 2.0,
       "min": 0.0,
       "orientation": "horizontal",
       "style": "IPY_MODEL_f59b5f664453463cbcd2ec1456731ab0",
       "tabbable": null,
       "tooltip": null,
       "value": 2.0
      }
     },
     "8adacf9fe8b64291abfbbdba921dc5fe": {
      "model_module": "@jupyter-widgets/controls",
      "model_module_version": "2.0.0",
      "model_name": "HBoxModel",
      "state": {
       "_dom_classes": [],
       "_model_module": "@jupyter-widgets/controls",
       "_model_module_version": "2.0.0",
       "_model_name": "HBoxModel",
       "_view_count": null,
       "_view_module": "@jupyter-widgets/controls",
       "_view_module_version": "2.0.0",
       "_view_name": "HBoxView",
       "box_style": "",
       "children": [
        "IPY_MODEL_e993aee84da74045b64b169804c9e848",
        "IPY_MODEL_693207ae89c74d11b46097705cc79321",
        "IPY_MODEL_07db21d120b94a959bd57a3898fe0e63"
       ],
       "layout": "IPY_MODEL_1250c4b4f0b449619345b860757aa7d3",
       "tabbable": null,
       "tooltip": null
      }
     },
     "928878553da7401abfba03924473a449": {
      "model_module": "@jupyter-widgets/base",
      "model_module_version": "2.0.0",
      "model_name": "LayoutModel",
      "state": {
       "_model_module": "@jupyter-widgets/base",
       "_model_module_version": "2.0.0",
       "_model_name": "LayoutModel",
       "_view_count": null,
       "_view_module": "@jupyter-widgets/base",
       "_view_module_version": "2.0.0",
       "_view_name": "LayoutView",
       "align_content": null,
       "align_items": null,
       "align_self": null,
       "border_bottom": null,
       "border_left": null,
       "border_right": null,
       "border_top": null,
       "bottom": null,
       "display": null,
       "flex": null,
       "flex_flow": null,
       "grid_area": null,
       "grid_auto_columns": null,
       "grid_auto_flow": null,
       "grid_auto_rows": null,
       "grid_column": null,
       "grid_gap": null,
       "grid_row": null,
       "grid_template_areas": null,
       "grid_template_columns": null,
       "grid_template_rows": null,
       "height": null,
       "justify_content": null,
       "justify_items": null,
       "left": null,
       "margin": null,
       "max_height": null,
       "max_width": null,
       "min_height": null,
       "min_width": null,
       "object_fit": null,
       "object_position": null,
       "order": null,
       "overflow": null,
       "padding": null,
       "right": null,
       "top": null,
       "visibility": null,
       "width": null
      }
     },
     "a019d46e8a244ec1bd04664f13ce6cb5": {
      "model_module": "@jupyter-widgets/controls",
      "model_module_version": "2.0.0",
      "model_name": "HTMLStyleModel",
      "state": {
       "_model_module": "@jupyter-widgets/controls",
       "_model_module_version": "2.0.0",
       "_model_name": "HTMLStyleModel",
       "_view_count": null,
       "_view_module": "@jupyter-widgets/base",
       "_view_module_version": "2.0.0",
       "_view_name": "StyleView",
       "background": null,
       "description_width": "",
       "font_size": null,
       "text_color": null
      }
     },
     "be08ad579e4343dd979b54b049875428": {
      "model_module": "@jupyter-widgets/base",
      "model_module_version": "2.0.0",
      "model_name": "LayoutModel",
      "state": {
       "_model_module": "@jupyter-widgets/base",
       "_model_module_version": "2.0.0",
       "_model_name": "LayoutModel",
       "_view_count": null,
       "_view_module": "@jupyter-widgets/base",
       "_view_module_version": "2.0.0",
       "_view_name": "LayoutView",
       "align_content": null,
       "align_items": null,
       "align_self": null,
       "border_bottom": null,
       "border_left": null,
       "border_right": null,
       "border_top": null,
       "bottom": null,
       "display": null,
       "flex": null,
       "flex_flow": null,
       "grid_area": null,
       "grid_auto_columns": null,
       "grid_auto_flow": null,
       "grid_auto_rows": null,
       "grid_column": null,
       "grid_gap": null,
       "grid_row": null,
       "grid_template_areas": null,
       "grid_template_columns": null,
       "grid_template_rows": null,
       "height": null,
       "justify_content": null,
       "justify_items": null,
       "left": null,
       "margin": null,
       "max_height": null,
       "max_width": null,
       "min_height": null,
       "min_width": null,
       "object_fit": null,
       "object_position": null,
       "order": null,
       "overflow": null,
       "padding": null,
       "right": null,
       "top": null,
       "visibility": null,
       "width": null
      }
     },
     "d48ba758f06549e189787aaa86c22a23": {
      "model_module": "@jupyter-widgets/base",
      "model_module_version": "2.0.0",
      "model_name": "LayoutModel",
      "state": {
       "_model_module": "@jupyter-widgets/base",
       "_model_module_version": "2.0.0",
       "_model_name": "LayoutModel",
       "_view_count": null,
       "_view_module": "@jupyter-widgets/base",
       "_view_module_version": "2.0.0",
       "_view_name": "LayoutView",
       "align_content": null,
       "align_items": null,
       "align_self": null,
       "border_bottom": null,
       "border_left": null,
       "border_right": null,
       "border_top": null,
       "bottom": null,
       "display": null,
       "flex": null,
       "flex_flow": null,
       "grid_area": null,
       "grid_auto_columns": null,
       "grid_auto_flow": null,
       "grid_auto_rows": null,
       "grid_column": null,
       "grid_gap": null,
       "grid_row": null,
       "grid_template_areas": null,
       "grid_template_columns": null,
       "grid_template_rows": null,
       "height": null,
       "justify_content": null,
       "justify_items": null,
       "left": null,
       "margin": null,
       "max_height": null,
       "max_width": null,
       "min_height": null,
       "min_width": null,
       "object_fit": null,
       "object_position": null,
       "order": null,
       "overflow": null,
       "padding": null,
       "right": null,
       "top": null,
       "visibility": null,
       "width": null
      }
     },
     "e993aee84da74045b64b169804c9e848": {
      "model_module": "@jupyter-widgets/controls",
      "model_module_version": "2.0.0",
      "model_name": "HTMLModel",
      "state": {
       "_dom_classes": [],
       "_model_module": "@jupyter-widgets/controls",
       "_model_module_version": "2.0.0",
       "_model_name": "HTMLModel",
       "_view_count": null,
       "_view_module": "@jupyter-widgets/controls",
       "_view_module_version": "2.0.0",
       "_view_name": "HTMLView",
       "description": "",
       "description_allow_html": false,
       "layout": "IPY_MODEL_928878553da7401abfba03924473a449",
       "placeholder": "​",
       "style": "IPY_MODEL_a019d46e8a244ec1bd04664f13ce6cb5",
       "tabbable": null,
       "tooltip": null,
       "value": "Loading checkpoint shards: 100%"
      }
     },
     "f59b5f664453463cbcd2ec1456731ab0": {
      "model_module": "@jupyter-widgets/controls",
      "model_module_version": "2.0.0",
      "model_name": "ProgressStyleModel",
      "state": {
       "_model_module": "@jupyter-widgets/controls",
       "_model_module_version": "2.0.0",
       "_model_name": "ProgressStyleModel",
       "_view_count": null,
       "_view_module": "@jupyter-widgets/base",
       "_view_module_version": "2.0.0",
       "_view_name": "StyleView",
       "bar_color": null,
       "description_width": ""
      }
     }
    },
    "version_major": 2,
    "version_minor": 0
   }
  }
 },
 "nbformat": 4,
 "nbformat_minor": 5
}
